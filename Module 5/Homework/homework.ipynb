{
 "cells": [
  {
   "cell_type": "code",
   "execution_count": 1,
   "id": "b4cb551a-9de1-4086-b7e4-07632f08e455",
   "metadata": {},
   "outputs": [],
   "source": [
    "import pyspark\n",
    "from pyspark.sql import SparkSession"
   ]
  },
  {
   "cell_type": "code",
   "execution_count": 2,
   "id": "416c226a-8047-4f6b-b8b7-320553ad4c1d",
   "metadata": {},
   "outputs": [
    {
     "name": "stderr",
     "output_type": "stream",
     "text": [
      "25/03/17 12:24:26 WARN Utils: Your hostname, Tees-MacBook-Air.local resolves to a loopback address: 127.0.0.1; using 10.91.185.118 instead (on interface en0)\n",
      "25/03/17 12:24:26 WARN Utils: Set SPARK_LOCAL_IP if you need to bind to another address\n",
      "Setting default log level to \"WARN\".\n",
      "To adjust logging level use sc.setLogLevel(newLevel). For SparkR, use setLogLevel(newLevel).\n",
      "25/03/17 12:24:26 WARN NativeCodeLoader: Unable to load native-hadoop library for your platform... using builtin-java classes where applicable\n"
     ]
    }
   ],
   "source": [
    "spark = SparkSession.builder \\\n",
    "    .master(\"local[*]\") \\\n",
    "    .appName('test') \\\n",
    "    .getOrCreate()"
   ]
  },
  {
   "cell_type": "code",
   "execution_count": 4,
   "id": "7546dd3f-6ee5-4da6-8bb8-74b2dbcd8478",
   "metadata": {},
   "outputs": [
    {
     "data": {
      "text/plain": [
       "'3.5.5'"
      ]
     },
     "execution_count": 4,
     "metadata": {},
     "output_type": "execute_result"
    }
   ],
   "source": [
    "spark.version"
   ]
  },
  {
   "cell_type": "code",
   "execution_count": 3,
   "id": "5ecd5ae4-4d42-4668-a32b-dbf6b6cd7198",
   "metadata": {},
   "outputs": [
    {
     "name": "stdout",
     "output_type": "stream",
     "text": [
      "--2025-03-17 12:24:38--  https://d37ci6vzurychx.cloudfront.net/trip-data/yellow_tripdata_2024-10.parquet\n",
      "Resolving d37ci6vzurychx.cloudfront.net (d37ci6vzurychx.cloudfront.net)... 18.155.128.46, 18.155.128.187, 18.155.128.222, ...\n",
      "Connecting to d37ci6vzurychx.cloudfront.net (d37ci6vzurychx.cloudfront.net)|18.155.128.46|:443... connected.\n",
      "HTTP request sent, awaiting response... 200 OK\n",
      "Length: 64346071 (61M) [binary/octet-stream]\n",
      "Saving to: ‘yellow_tripdata_2024-10.parquet’\n",
      "\n",
      "yellow_tripdata_202 100%[===================>]  61.36M  3.44MB/s    in 25s     \n",
      "\n",
      "2025-03-17 12:25:05 (2.48 MB/s) - ‘yellow_tripdata_2024-10.parquet’ saved [64346071/64346071]\n",
      "\n"
     ]
    }
   ],
   "source": [
    "!wget https://d37ci6vzurychx.cloudfront.net/trip-data/yellow_tripdata_2024-10.parquet"
   ]
  },
  {
   "cell_type": "markdown",
   "id": "6a9b630d-6c2b-45a9-802b-5ad818068e80",
   "metadata": {},
   "source": [
    "# Repartition"
   ]
  },
  {
   "cell_type": "code",
   "execution_count": 5,
   "id": "e501917f-11cc-4ae0-b4d4-cc9df3504656",
   "metadata": {},
   "outputs": [
    {
     "name": "stdout",
     "output_type": "stream",
     "text": [
      "homework.ipynb                  yellow_tripdata_2024-10.parquet\n"
     ]
    }
   ],
   "source": [
    "!ls"
   ]
  },
  {
   "cell_type": "code",
   "execution_count": 6,
   "id": "1a7b0cba-b856-4af7-a751-00d13834a320",
   "metadata": {},
   "outputs": [],
   "source": [
    "df = spark.read.parquet('yellow_tripdata_2024-10.parquet')"
   ]
  },
  {
   "cell_type": "code",
   "execution_count": 7,
   "id": "1b3ecf96-73ab-4283-8328-9a08d898cfa8",
   "metadata": {},
   "outputs": [],
   "source": [
    "df = df.repartition(4)"
   ]
  },
  {
   "cell_type": "code",
   "execution_count": 8,
   "id": "cacfd936-36fc-4d8b-b11e-8299a2cd462e",
   "metadata": {},
   "outputs": [
    {
     "name": "stderr",
     "output_type": "stream",
     "text": [
      "                                                                                \r"
     ]
    }
   ],
   "source": [
    "df.write.parquet('yellow/2024/01')"
   ]
  },
  {
   "cell_type": "code",
   "execution_count": 9,
   "id": "5e213ebc-0dbd-4f5e-9136-6fc69fa70ade",
   "metadata": {},
   "outputs": [
    {
     "name": "stdout",
     "output_type": "stream",
     "text": [
      "total 190472\n",
      "drwxr-xr-x  12 teeyeejian  staff       384 Mar 17 12:29 \u001b[34m.\u001b[m\u001b[m\n",
      "drwxr-xr-x   4 teeyeejian  staff       128 Mar 17 12:29 \u001b[34m..\u001b[m\u001b[m\n",
      "-rw-r--r--   1 teeyeejian  staff         8 Mar 17 12:29 ._SUCCESS.crc\n",
      "-rw-r--r--   1 teeyeejian  staff    183424 Mar 17 12:29 .part-00000-aa6baeaf-b560-4265-8cdb-0d4cb34b9c95-c000.snappy.parquet.crc\n",
      "-rw-r--r--   1 teeyeejian  staff    183488 Mar 17 12:29 .part-00001-aa6baeaf-b560-4265-8cdb-0d4cb34b9c95-c000.snappy.parquet.crc\n",
      "-rw-r--r--   1 teeyeejian  staff    183448 Mar 17 12:29 .part-00002-aa6baeaf-b560-4265-8cdb-0d4cb34b9c95-c000.snappy.parquet.crc\n",
      "-rw-r--r--   1 teeyeejian  staff    183624 Mar 17 12:29 .part-00003-aa6baeaf-b560-4265-8cdb-0d4cb34b9c95-c000.snappy.parquet.crc\n",
      "-rw-r--r--   1 teeyeejian  staff         0 Mar 17 12:29 _SUCCESS\n",
      "-rw-r--r--   1 teeyeejian  staff  23477172 Mar 17 12:29 part-00000-aa6baeaf-b560-4265-8cdb-0d4cb34b9c95-c000.snappy.parquet\n",
      "-rw-r--r--   1 teeyeejian  staff  23485343 Mar 17 12:29 part-00001-aa6baeaf-b560-4265-8cdb-0d4cb34b9c95-c000.snappy.parquet\n",
      "-rw-r--r--   1 teeyeejian  staff  23480147 Mar 17 12:29 part-00002-aa6baeaf-b560-4265-8cdb-0d4cb34b9c95-c000.snappy.parquet\n",
      "-rw-r--r--   1 teeyeejian  staff  23502775 Mar 17 12:29 part-00003-aa6baeaf-b560-4265-8cdb-0d4cb34b9c95-c000.snappy.parquet\n"
     ]
    }
   ],
   "source": [
    "!ls -al yellow/2024/01\n"
   ]
  },
  {
   "cell_type": "code",
   "execution_count": 10,
   "id": "61c4c570-1092-4f71-87d8-e41f890bb92e",
   "metadata": {},
   "outputs": [
    {
     "data": {
      "text/plain": [
       "StructType([StructField('VendorID', IntegerType(), True), StructField('tpep_pickup_datetime', TimestampNTZType(), True), StructField('tpep_dropoff_datetime', TimestampNTZType(), True), StructField('passenger_count', LongType(), True), StructField('trip_distance', DoubleType(), True), StructField('RatecodeID', LongType(), True), StructField('store_and_fwd_flag', StringType(), True), StructField('PULocationID', IntegerType(), True), StructField('DOLocationID', IntegerType(), True), StructField('payment_type', LongType(), True), StructField('fare_amount', DoubleType(), True), StructField('extra', DoubleType(), True), StructField('mta_tax', DoubleType(), True), StructField('tip_amount', DoubleType(), True), StructField('tolls_amount', DoubleType(), True), StructField('improvement_surcharge', DoubleType(), True), StructField('total_amount', DoubleType(), True), StructField('congestion_surcharge', DoubleType(), True), StructField('Airport_fee', DoubleType(), True)])"
      ]
     },
     "execution_count": 10,
     "metadata": {},
     "output_type": "execute_result"
    }
   ],
   "source": [
    "df.schema"
   ]
  },
  {
   "cell_type": "code",
   "execution_count": 11,
   "id": "e8d02b7f-e6fe-4fcb-b227-bba5169b90c6",
   "metadata": {},
   "outputs": [
    {
     "name": "stderr",
     "output_type": "stream",
     "text": [
      "/opt/homebrew/Cellar/apache-spark/3.5.5/libexec/python/pyspark/sql/dataframe.py:329: FutureWarning: Deprecated in 2.0, use createOrReplaceTempView instead.\n",
      "  warnings.warn(\"Deprecated in 2.0, use createOrReplaceTempView instead.\", FutureWarning)\n"
     ]
    }
   ],
   "source": [
    "df.registerTempTable('yellow_taxi')"
   ]
  },
  {
   "cell_type": "code",
   "execution_count": 13,
   "id": "98e6418e-d69c-4000-affd-754a81dc5cc8",
   "metadata": {},
   "outputs": [
    {
     "name": "stderr",
     "output_type": "stream",
     "text": [
      "[Stage 10:====================================>                     (5 + 3) / 8]\r"
     ]
    },
    {
     "name": "stdout",
     "output_type": "stream",
     "text": [
      "+--------------------+--------+\n",
      "|tpep_pickup_datetime|count(1)|\n",
      "+--------------------+--------+\n",
      "|          2024-10-24|  137337|\n",
      "|          2024-10-02|  113906|\n",
      "|          2024-10-25|  136066|\n",
      "|          2024-09-30|      12|\n",
      "|          2024-10-22|  121106|\n",
      "|          2024-10-18|  133213|\n",
      "|          2024-10-08|  121402|\n",
      "|          2024-10-10|  143206|\n",
      "|          2024-10-20|  117129|\n",
      "|          2024-10-01|  119118|\n",
      "|          2024-10-04|  112431|\n",
      "|          2024-10-15|  128893|\n",
      "|          2024-10-28|  110595|\n",
      "|          2024-10-29|  126931|\n",
      "|          2024-10-17|  136330|\n",
      "|          2024-10-31|  129394|\n",
      "|          2024-10-07|  102014|\n",
      "|          2024-11-01|      26|\n",
      "|          2024-10-11|  128821|\n",
      "|          2024-10-16|  134891|\n",
      "+--------------------+--------+\n",
      "only showing top 20 rows\n",
      "\n"
     ]
    },
    {
     "name": "stderr",
     "output_type": "stream",
     "text": [
      "                                                                                \r"
     ]
    }
   ],
   "source": [
    "spark.sql(\"\"\"\n",
    "SELECT\n",
    "    date(tpep_pickup_datetime),\n",
    "    count(*)\n",
    "FROM\n",
    "    yellow_taxi\n",
    "GROUP BY \n",
    "    date(tpep_pickup_datetime)\n",
    "\"\"\").show()"
   ]
  },
  {
   "cell_type": "code",
   "execution_count": 19,
   "id": "9dc20b71-5633-404f-9465-c34b2fd88f15",
   "metadata": {},
   "outputs": [
    {
     "name": "stderr",
     "output_type": "stream",
     "text": [
      "[Stage 16:====================================>                     (5 + 3) / 8]\r"
     ]
    },
    {
     "name": "stdout",
     "output_type": "stream",
     "text": [
      "+--------------------+---------------------+-------------+\n",
      "|tpep_pickup_datetime|tpep_dropoff_datetime|trip_duration|\n",
      "+--------------------+---------------------+-------------+\n",
      "| 2024-10-16 13:03:49|  2024-10-23 07:40:53|          162|\n",
      "| 2024-10-03 18:47:25|  2024-10-09 18:06:55|          143|\n",
      "| 2024-10-22 16:00:55|  2024-10-28 09:46:33|          137|\n",
      "| 2024-10-18 09:53:32|  2024-10-23 04:43:37|          114|\n",
      "| 2024-10-20 13:30:52|  2024-10-24 06:57:38|           89|\n",
      "| 2024-10-21 00:36:24|  2024-10-24 18:30:18|           89|\n",
      "| 2024-10-22 16:04:52|  2024-10-25 14:22:49|           70|\n",
      "| 2024-10-12 19:32:51|  2024-10-15 15:07:15|           67|\n",
      "| 2024-10-17 17:58:18|  2024-10-20 12:02:18|           66|\n",
      "| 2024-10-21 14:28:21|  2024-10-23 12:53:42|           46|\n",
      "| 2024-10-20 18:58:28|  2024-10-22 13:17:00|           42|\n",
      "| 2024-10-24 20:29:58|  2024-10-26 10:58:25|           38|\n",
      "| 2024-10-23 23:52:02|  2024-10-25 09:49:06|           33|\n",
      "| 2024-10-02 10:36:50|  2024-10-03 12:54:45|           26|\n",
      "| 2024-10-14 22:39:53|  2024-10-15 23:57:22|           25|\n",
      "| 2024-10-15 11:49:15|  2024-10-16 13:03:33|           25|\n",
      "| 2024-10-23 11:22:58|  2024-10-24 11:51:10|           24|\n",
      "| 2024-10-04 08:38:36|  2024-10-05 08:00:00|           23|\n",
      "| 2024-10-06 20:45:23|  2024-10-07 20:31:55|           23|\n",
      "| 2024-10-08 21:45:43|  2024-10-09 21:31:02|           23|\n",
      "+--------------------+---------------------+-------------+\n",
      "only showing top 20 rows\n",
      "\n"
     ]
    },
    {
     "name": "stderr",
     "output_type": "stream",
     "text": [
      "                                                                                \r"
     ]
    }
   ],
   "source": [
    "spark.sql(\"\"\"\n",
    "SELECT\n",
    "    tpep_pickup_datetime,\n",
    "    tpep_dropoff_datetime,\n",
    "    datediff(HOUR, tpep_pickup_datetime, tpep_dropoff_datetime) as trip_duration\n",
    "FROM\n",
    "    yellow_taxi\n",
    "order by \n",
    "    trip_duration desc\n",
    "\"\"\").show()"
   ]
  },
  {
   "cell_type": "code",
   "execution_count": 20,
   "id": "253d7849-3f09-46ce-942d-5a870c81fb3b",
   "metadata": {},
   "outputs": [
    {
     "name": "stdout",
     "output_type": "stream",
     "text": [
      "--2025-03-17 12:53:54--  https://d37ci6vzurychx.cloudfront.net/misc/taxi_zone_lookup.csv\n",
      "Resolving d37ci6vzurychx.cloudfront.net (d37ci6vzurychx.cloudfront.net)... 18.155.128.6, 18.155.128.187, 18.155.128.46, ...\n",
      "Connecting to d37ci6vzurychx.cloudfront.net (d37ci6vzurychx.cloudfront.net)|18.155.128.6|:443... connected.\n",
      "HTTP request sent, awaiting response... 200 OK\n",
      "Length: 12331 (12K) [text/csv]\n",
      "Saving to: ‘taxi_zone_lookup.csv’\n",
      "\n",
      "taxi_zone_lookup.cs 100%[===================>]  12.04K  --.-KB/s    in 0.01s   \n",
      "\n",
      "2025-03-17 12:53:55 (924 KB/s) - ‘taxi_zone_lookup.csv’ saved [12331/12331]\n",
      "\n"
     ]
    }
   ],
   "source": [
    "!wget https://d37ci6vzurychx.cloudfront.net/misc/taxi_zone_lookup.csv"
   ]
  },
  {
   "cell_type": "code",
   "execution_count": 23,
   "id": "4424292d-486a-408b-bd07-a9788f62ffc6",
   "metadata": {},
   "outputs": [],
   "source": [
    "taxi_zone_lookup = spark.read.csv('taxi_zone_lookup.csv', header=True)"
   ]
  },
  {
   "cell_type": "code",
   "execution_count": 24,
   "id": "599fc1d5-27c8-42dc-9ca5-e98f1f3ea28e",
   "metadata": {},
   "outputs": [
    {
     "data": {
      "text/plain": [
       "StructType([StructField('LocationID', StringType(), True), StructField('Borough', StringType(), True), StructField('Zone', StringType(), True), StructField('service_zone', StringType(), True)])"
      ]
     },
     "execution_count": 24,
     "metadata": {},
     "output_type": "execute_result"
    }
   ],
   "source": [
    "taxi_zone_lookup.schema"
   ]
  },
  {
   "cell_type": "code",
   "execution_count": 31,
   "id": "ae40084a-02e9-4cec-acea-db7281d2e3b3",
   "metadata": {},
   "outputs": [],
   "source": [
    "yello_taxi_joined = df.join(taxi_zone_lookup, df.PULocationID == taxi_zone_lookup.LocationID)"
   ]
  },
  {
   "cell_type": "code",
   "execution_count": 33,
   "id": "c6c37e03-e45b-4d26-a939-f499cc82705a",
   "metadata": {},
   "outputs": [
    {
     "name": "stderr",
     "output_type": "stream",
     "text": [
      "[Stage 25:====================================>                     (5 + 3) / 8]\r"
     ]
    },
    {
     "name": "stdout",
     "output_type": "stream",
     "text": [
      "+--------+--------------------+---------------------+---------------+-------------+----------+------------------+------------+------------+------------+-----------+-----+-------+----------+------------+---------------------+------------+--------------------+-----------+----------+---------+--------------------+------------+\n",
      "|VendorID|tpep_pickup_datetime|tpep_dropoff_datetime|passenger_count|trip_distance|RatecodeID|store_and_fwd_flag|PULocationID|DOLocationID|payment_type|fare_amount|extra|mta_tax|tip_amount|tolls_amount|improvement_surcharge|total_amount|congestion_surcharge|Airport_fee|LocationID|  Borough|                Zone|service_zone|\n",
      "+--------+--------------------+---------------------+---------------+-------------+----------+------------------+------------+------------+------------+-----------+-----+-------+----------+------------+---------------------+------------+--------------------+-----------+----------+---------+--------------------+------------+\n",
      "|       1| 2024-10-07 16:40:43|  2024-10-07 18:10:56|              1|         14.8|        99|                 N|         127|         225|           1|       47.5|  0.0|    0.5|       0.0|        6.94|                  0.0|       54.94|                 0.0|        0.0|       127|Manhattan|              Inwood|   Boro Zone|\n",
      "|       2| 2024-10-04 14:17:41|  2024-10-04 14:26:47|              1|          1.1|         1|                 N|         113|         211|           1|        9.3|  0.0|    0.5|      2.66|         0.0|                  1.0|       15.96|                 2.5|        0.0|       113|Manhattan|Greenwich Village...| Yellow Zone|\n",
      "|       2| 2024-10-01 11:17:28|  2024-10-01 11:32:18|              1|         4.63|         1|                 N|         231|         170|           1|       21.9|  0.0|    0.5|      5.18|         0.0|                  1.0|       31.08|                 2.5|        0.0|       231|Manhattan|TriBeCa/Civic Center| Yellow Zone|\n",
      "|       1| 2024-10-08 17:12:07|  2024-10-08 17:35:56|              1|          2.4|         1|                 N|         236|         100|           1|       19.8|  5.0|    0.5|      5.25|         0.0|                  1.0|       31.55|                 2.5|        0.0|       236|Manhattan|Upper East Side N...| Yellow Zone|\n",
      "|       1| 2024-10-01 15:37:08|  2024-10-01 15:54:23|              1|          2.1|         1|                 N|         237|          75|           1|       16.3|  2.5|    0.5|      4.05|         0.0|                  1.0|       24.35|                 2.5|        0.0|       237|Manhattan|Upper East Side S...| Yellow Zone|\n",
      "|       1| 2024-10-09 10:14:04|  2024-10-09 10:28:13|              1|          1.7|         1|                 N|         161|         234|           1|       12.8|  2.5|    0.5|      3.35|         0.0|                  1.0|       20.15|                 2.5|        0.0|       161|Manhattan|      Midtown Center| Yellow Zone|\n",
      "|       2| 2024-10-04 17:08:38|  2024-10-04 18:03:10|              1|        17.42|         1|                 N|         132|          17|           1|       75.1|  2.5|    0.5|     19.77|         0.0|                  1.0|      100.62|                 0.0|       1.75|       132|   Queens|         JFK Airport|    Airports|\n",
      "|       2| 2024-10-05 01:27:22|  2024-10-05 01:40:37|              1|         1.88|         1|                 N|         148|         137|           1|       13.5|  1.0|    0.5|       3.7|         0.0|                  1.0|        22.2|                 2.5|        0.0|       148|Manhattan|     Lower East Side| Yellow Zone|\n",
      "|       2| 2024-10-05 23:50:45|  2024-10-06 00:00:32|              1|         1.06|         1|                 N|          79|         211|           1|       10.0|  1.0|    0.5|       2.0|         0.0|                  1.0|        17.0|                 2.5|        0.0|        79|Manhattan|        East Village| Yellow Zone|\n",
      "|       2| 2024-10-02 14:31:14|  2024-10-02 14:45:59|              1|         2.88|         1|                 N|         231|         246|           2|       17.0|  0.0|    0.5|       0.0|         0.0|                  1.0|        21.0|                 2.5|        0.0|       231|Manhattan|TriBeCa/Civic Center| Yellow Zone|\n",
      "|       2| 2024-10-10 08:25:53|  2024-10-10 08:27:59|              1|          0.4|         1|                 N|         237|         237|           1|        4.4|  0.0|    0.5|       2.5|         0.0|                  1.0|        10.9|                 2.5|        0.0|       237|Manhattan|Upper East Side S...| Yellow Zone|\n",
      "|       2| 2024-10-04 23:07:32|  2024-10-04 23:15:38|              1|         0.94|         1|                 N|         142|          48|           1|        9.3|  1.0|    0.5|      2.86|         0.0|                  1.0|       17.16|                 2.5|        0.0|       142|Manhattan| Lincoln Square East| Yellow Zone|\n",
      "|       2| 2024-10-04 17:00:04|  2024-10-04 17:07:54|              1|         0.85|         1|                 N|         170|         137|           2|        8.6|  2.5|    0.5|       0.0|         0.0|                  1.0|        15.1|                 2.5|        0.0|       170|Manhattan|         Murray Hill| Yellow Zone|\n",
      "|       1| 2024-10-09 23:12:34|  2024-10-09 23:29:17|              1|          3.5|         1|                 N|         163|         211|           1|       17.7|  3.5|    0.5|       1.5|         0.0|                  1.0|        24.2|                 2.5|        0.0|       163|Manhattan|       Midtown North| Yellow Zone|\n",
      "|       2| 2024-10-09 21:19:16|  2024-10-09 21:53:56|              1|        12.33|         1|                 N|         237|         181|           1|       51.3|  1.0|    0.5|     15.81|        6.94|                  1.0|       79.05|                 2.5|        0.0|       237|Manhattan|Upper East Side S...| Yellow Zone|\n",
      "|       2| 2024-10-02 15:30:00|  2024-10-02 15:36:43|              1|         0.54|         1|                 N|          79|         113|           1|        7.2|  0.0|    0.5|       2.0|         0.0|                  1.0|        13.2|                 2.5|        0.0|        79|Manhattan|        East Village| Yellow Zone|\n",
      "|       2| 2024-10-01 20:12:23|  2024-10-01 20:23:32|              1|          2.1|         1|                 N|         161|         239|           1|       12.8|  1.0|    0.5|      3.56|         0.0|                  1.0|       21.36|                 2.5|        0.0|       161|Manhattan|      Midtown Center| Yellow Zone|\n",
      "|       2| 2024-10-04 17:46:07|  2024-10-04 17:54:18|              1|         1.34|         1|                 N|         161|         141|           1|        9.3|  2.5|    0.5|      3.16|         0.0|                  1.0|       18.96|                 2.5|        0.0|       161|Manhattan|      Midtown Center| Yellow Zone|\n",
      "|       2| 2024-10-05 09:16:58|  2024-10-05 09:20:40|              2|         0.91|         1|                 N|         141|         236|           1|        6.5|  0.0|    0.5|       2.1|         0.0|                  1.0|        12.6|                 2.5|        0.0|       141|Manhattan|     Lenox Hill West| Yellow Zone|\n",
      "|       2| 2024-10-08 16:14:39|  2024-10-08 16:26:05|              1|          2.2|         1|                 N|         249|          13|           1|       13.5|  2.5|    0.5|       4.0|         0.0|                  1.0|        24.0|                 2.5|        0.0|       249|Manhattan|        West Village| Yellow Zone|\n",
      "+--------+--------------------+---------------------+---------------+-------------+----------+------------------+------------+------------+------------+-----------+-----+-------+----------+------------+---------------------+------------+--------------------+-----------+----------+---------+--------------------+------------+\n",
      "only showing top 20 rows\n",
      "\n"
     ]
    },
    {
     "name": "stderr",
     "output_type": "stream",
     "text": [
      "                                                                                \r"
     ]
    }
   ],
   "source": [
    "yello_taxi_joined.show()"
   ]
  },
  {
   "cell_type": "code",
   "execution_count": 34,
   "id": "312eaa8a-7283-4eb9-8070-208d29c22ff3",
   "metadata": {},
   "outputs": [
    {
     "name": "stderr",
     "output_type": "stream",
     "text": [
      "/opt/homebrew/Cellar/apache-spark/3.5.5/libexec/python/pyspark/sql/dataframe.py:329: FutureWarning: Deprecated in 2.0, use createOrReplaceTempView instead.\n",
      "  warnings.warn(\"Deprecated in 2.0, use createOrReplaceTempView instead.\", FutureWarning)\n"
     ]
    }
   ],
   "source": [
    "yello_taxi_joined.registerTempTable('yellow_taxi_joined')"
   ]
  },
  {
   "cell_type": "code",
   "execution_count": 35,
   "id": "e9e4d9d5-4919-45d7-83aa-1cb20f747b06",
   "metadata": {},
   "outputs": [
    {
     "name": "stdout",
     "output_type": "stream",
     "text": [
      "+--------------------+--------+\n",
      "|                Zone|count(1)|\n",
      "+--------------------+--------+\n",
      "|Governor's Island...|       1|\n",
      "|       Rikers Island|       2|\n",
      "|       Arden Heights|       2|\n",
      "|         Jamaica Bay|       3|\n",
      "| Green-Wood Cemetery|       3|\n",
      "|   Rossville/Woodrow|       4|\n",
      "|       West Brighton|       4|\n",
      "|       Port Richmond|       4|\n",
      "|Eltingville/Annad...|       4|\n",
      "|Charleston/Totten...|       4|\n",
      "|         Great Kills|       6|\n",
      "|        Crotona Park|       6|\n",
      "|     Mariners Harbor|       7|\n",
      "|Heartland Village...|       7|\n",
      "|Saint George/New ...|       9|\n",
      "|             Oakwood|       9|\n",
      "|New Dorp/Midland ...|      10|\n",
      "|       Broad Channel|      10|\n",
      "|         Westerleigh|      12|\n",
      "|     Pelham Bay Park|      12|\n",
      "+--------------------+--------+\n",
      "only showing top 20 rows\n",
      "\n"
     ]
    }
   ],
   "source": [
    "spark.sql(\"\"\"\n",
    "SELECT \n",
    "    Zone,\n",
    "    count(*)\n",
    "FROM \n",
    "    yellow_taxi_joined\n",
    "GROUP BY\n",
    "    Zone\n",
    "ORDER BY\n",
    "    2\n",
    "\"\"\").show()"
   ]
  },
  {
   "cell_type": "code",
   "execution_count": null,
   "id": "79ddfc6f-da21-4d2a-910e-e9fe20706f2b",
   "metadata": {},
   "outputs": [],
   "source": []
  }
 ],
 "metadata": {
  "kernelspec": {
   "display_name": "Python 3 (ipykernel)",
   "language": "python",
   "name": "python3"
  },
  "language_info": {
   "codemirror_mode": {
    "name": "ipython",
    "version": 3
   },
   "file_extension": ".py",
   "mimetype": "text/x-python",
   "name": "python",
   "nbconvert_exporter": "python",
   "pygments_lexer": "ipython3",
   "version": "3.11.7"
  }
 },
 "nbformat": 4,
 "nbformat_minor": 5
}
